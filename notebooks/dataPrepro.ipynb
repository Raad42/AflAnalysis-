{
 "cells": [
  {
   "cell_type": "code",
   "execution_count": 39,
   "metadata": {},
   "outputs": [],
   "source": [
    "import pandas as pd \n",
    "import numpy as np\n",
    "import matplotlib.pyplot as plt\n",
    "import seaborn as sns"
   ]
  },
  {
   "cell_type": "code",
   "execution_count": 40,
   "metadata": {},
   "outputs": [
    {
     "name": "stdout",
     "output_type": "stream",
     "text": [
      "GameId\n",
      "<class 'str'>\n",
      "Year\n",
      "<class 'numpy.int64'>\n",
      "Round\n",
      "<class 'numpy.int64'>\n",
      "Date\n",
      "<class 'str'>\n",
      "MaxTemp\n",
      "<class 'numpy.float64'>\n",
      "MinTemp\n",
      "<class 'numpy.float64'>\n",
      "Rainfall\n",
      "<class 'numpy.float64'>\n",
      "Venue\n",
      "<class 'str'>\n",
      "StartTime\n",
      "<class 'str'>\n",
      "Attendance\n",
      "<class 'str'>\n",
      "HomeTeam\n",
      "<class 'str'>\n",
      "HomeTeamScoreQT\n",
      "<class 'numpy.float64'>\n",
      "HomeTeamScoreHT\n",
      "<class 'numpy.float64'>\n",
      "HomeTeamScore3QT\n",
      "<class 'numpy.float64'>\n",
      "HomeTeamScoreFT\n",
      "<class 'numpy.float64'>\n",
      "HomeTeamScore\n",
      "<class 'numpy.int64'>\n",
      "AwayTeam\n",
      "<class 'str'>\n",
      "AwayTeamScoreQT\n",
      "<class 'numpy.float64'>\n",
      "AwayTeamScoreHT\n",
      "<class 'numpy.float64'>\n",
      "AwayTeamScore3QT\n",
      "<class 'numpy.float64'>\n",
      "AwayTeamScoreFT\n",
      "<class 'numpy.float64'>\n",
      "AwayTeamScore\n",
      "<class 'numpy.int64'>\n",
      "homePosition\n",
      "<class 'numpy.float64'>\n",
      "homePoints\n",
      "<class 'numpy.float64'>\n",
      "homePercentage\n",
      "<class 'numpy.float64'>\n",
      "awayPosition\n",
      "<class 'numpy.float64'>\n",
      "awayPoints\n",
      "<class 'numpy.float64'>\n",
      "awayPercentage\n",
      "<class 'numpy.float64'>\n"
     ]
    }
   ],
   "source": [
    "mainDF = pd.read_csv('rawData.csv')\n",
    "mainDF.head()\n",
    "for column in mainDF.columns:\n",
    "    print(column)\n",
    "    print(type(mainDF[column][0]))"
   ]
  },
  {
   "cell_type": "markdown",
   "metadata": {},
   "source": [
    "# Data Cleaning"
   ]
  },
  {
   "cell_type": "code",
   "execution_count": 41,
   "metadata": {},
   "outputs": [],
   "source": [
    "mainDF['Attendance'] = mainDF['Attendance'].str.replace(',', '', regex=True)  # Remove commas\n",
    "mainDF['Attendance'] = pd.to_numeric(mainDF['Attendance'], errors='coerce') "
   ]
  },
  {
   "cell_type": "markdown",
   "metadata": {},
   "source": [
    "## Data Encoding\n",
    "Label Encoding is used for Venues and Teams since one-hot encoding will introduce a lot of empty tables and space. However, drawback is that ML model might misinterpret the venues and teams as having an order. Label encoding could assign large numbers to certain categories, making it harder for some algorithms to interpret the values"
   ]
  },
  {
   "cell_type": "code",
   "execution_count": 42,
   "metadata": {},
   "outputs": [
    {
     "name": "stdout",
     "output_type": "stream",
     "text": [
      "['Greater Western Sydney' 'Richmond' 'Hawthorn' 'Melbourne' 'Gold Coast'\n",
      " 'Fremantle' 'North Melbourne' 'Western Bulldogs' 'Port Adelaide'\n",
      " 'Brisbane Lions' 'Essendon' 'Sydney' 'West Coast' 'Adelaide'\n",
      " 'Collingwood' 'St Kilda' 'Geelong' 'Carlton']\n",
      "['Stadium Australia' 'M.C.G.' 'Carrara' 'Subiaco' 'Docklands'\n",
      " 'Football Park' 'Gabba' 'S.C.G.' 'Bellerive Oval' 'Blacktown'\n",
      " 'Kardinia Park' 'Manuka Oval' 'York Park' 'Marrara Oval'\n",
      " 'Sydney Showground' \"Cazaly's Stadium\" 'Wellington' 'Adelaide Oval'\n",
      " 'Traeger Park' 'Jiangwan Stadium' 'Eureka Stadium' 'Perth Stadium'\n",
      " 'Riverway Stadium' 'Norwood Oval' 'Summit Sports Park']\n"
     ]
    }
   ],
   "source": [
    "print(mainDF['HomeTeam'].unique())\n",
    "print(mainDF['Venue'].unique())"
   ]
  },
  {
   "cell_type": "code",
   "execution_count": 43,
   "metadata": {},
   "outputs": [],
   "source": [
    "team_name_mapping = {\n",
    "    'Adelaide': 1,\n",
    "    'Brisbane Lions': 2,\n",
    "    'Carlton': 3,\n",
    "    'Collingwood': 4,\n",
    "    'Essendon': 5,\n",
    "    'Fremantle': 6,\n",
    "    'Geelong': 7,\n",
    "    'Gold Coast': 8,\n",
    "    'Greater Western Sydney': 9,\n",
    "    'Hawthorn': 10,\n",
    "    'Melbourne': 11,\n",
    "    'North Melbourne': 12,\n",
    "    'Port Adelaide': 13,\n",
    "    'Richmond': 14,\n",
    "    'St Kilda': 15,\n",
    "    'Sydney': 16,\n",
    "    'West Coast': 17,\n",
    "    'Western Bulldogs': 18\n",
    "}\n",
    "\n",
    "mainDF['HomeTeam'] = mainDF['HomeTeam'].map(team_name_mapping)\n",
    "mainDF['AwayTeam'] = mainDF['AwayTeam'].map(team_name_mapping)"
   ]
  },
  {
   "cell_type": "code",
   "execution_count": 16,
   "metadata": {
    "vscode": {
     "languageId": "dart"
    }
   },
   "outputs": [],
   "source": [
    "stadium_name_mapping = {\n",
    "    'Stadium Australia': 1,\n",
    "    'M.C.G.': 2,\n",
    "    'Carrara': 3,\n",
    "    'Subiaco': 4,\n",
    "    'Docklands': 5,\n",
    "    'Football Park': 6,\n",
    "    'Gabba': 7,\n",
    "    'S.C.G.': 8,\n",
    "    'Bellerive Oval': 9,\n",
    "    'Blacktown': 10,\n",
    "    'Kardinia Park': 11,\n",
    "    'Manuka Oval': 12,\n",
    "    'York Park': 13,\n",
    "    'Marrara Oval': 14,\n",
    "    'Sydney Showground': 15,\n",
    "    \"Cazaly's Stadium\": 16,\n",
    "    'Wellington': 17,\n",
    "    'Adelaide Oval': 18,\n",
    "    'Traeger Park': 19,\n",
    "    'Jiangwan Stadium': 20,\n",
    "    'Eureka Stadium': 21,\n",
    "    'Perth Stadium': 22,\n",
    "    'Riverway Stadium': 23,\n",
    "    'Norwood Oval': 24,\n",
    "    'Summit Sports Park': 25\n",
    "}\n",
    "mainDF['Venue'] = mainDF['Venue'].map(venue_name_mapping)\n",
    "mainDF"
   ]
  }
 ],
 "metadata": {
  "kernelspec": {
   "display_name": "base",
   "language": "python",
   "name": "python3"
  },
  "language_info": {
   "codemirror_mode": {
    "name": "ipython",
    "version": 3
   },
   "file_extension": ".py",
   "mimetype": "text/x-python",
   "name": "python",
   "nbconvert_exporter": "python",
   "pygments_lexer": "ipython3",
   "version": "3.12.7"
  }
 },
 "nbformat": 4,
 "nbformat_minor": 2
}
