{
 "cells": [
  {
   "cell_type": "code",
   "execution_count": 8,
   "metadata": {},
   "outputs": [],
   "source": [
    "import pandas as pd \n",
    "import numpy as np\n",
    "import matplotlib.pyplot as plt\n",
    "import seaborn as sns"
   ]
  },
  {
   "cell_type": "code",
   "execution_count": 9,
   "metadata": {},
   "outputs": [],
   "source": [
    "mainDF = pd.read_csv(r'C:\\Users\\raadr\\OneDrive\\Desktop\\AflAnalysis-\\data\\raw\\rawData12_24Complete.csv')"
   ]
  },
  {
   "cell_type": "code",
   "execution_count": 10,
   "metadata": {},
   "outputs": [],
   "source": [
    "mainDF['Attendance'] = mainDF['Attendance'].str.replace(',', '', regex=True)  # Remove commas\n",
    "mainDF['Attendance'] = pd.to_numeric(mainDF['Attendance'], errors='coerce') "
   ]
  },
  {
   "cell_type": "code",
   "execution_count": 11,
   "metadata": {},
   "outputs": [],
   "source": [
    "#Removing Years affected by COVID-19\n",
    "mainDF = mainDF[(mainDF.Year != 2020)& (mainDF.Year != 2021)]"
   ]
  },
  {
   "cell_type": "code",
   "execution_count": 12,
   "metadata": {},
   "outputs": [],
   "source": [
    "mainDF.to_csv(r'C:\\Users\\raadr\\OneDrive\\Desktop\\AflAnalysis-\\data\\interim\\proCatFullSes.csv', index=False)"
   ]
  },
  {
   "cell_type": "code",
   "execution_count": 13,
   "metadata": {},
   "outputs": [],
   "source": [
    "# Dealing with Datetime Features\n",
    "mainDF['Date'] = pd.to_datetime(mainDF['Date'], errors='coerce')\n",
    "\n",
    "#Create Day Variable\n",
    "mainDF['Day'] = mainDF['Date'].dt.day_name()  # Extract the day of the week as full name (e.g., 'Monday', 'Tuesday')\n",
    "\n",
    "#Create Month Variable\n",
    "mainDF['Month'] = mainDF['Date'].dt.month\n",
    "\n",
    "# Assuming StartTime is in 12-hour clock format (e.g., '7:20 PM')\n",
    "mainDF['StartTime'] = pd.to_datetime(mainDF['StartTime'], format='%I:%M %p', errors='coerce')\n"
   ]
  },
  {
   "cell_type": "code",
   "execution_count": 14,
   "metadata": {},
   "outputs": [],
   "source": [
    "# Create a new DataFrame for Home and Away Season\n",
    "HADF = mainDF[mainDF.Round > 0]\n",
    "HADF.to_csv(r'C:\\Users\\raadr\\OneDrive\\Desktop\\AflAnalysis-\\data\\interim\\proCatH&ASes.csv', index=False)\n"
   ]
  }
 ],
 "metadata": {
  "kernelspec": {
   "display_name": "base",
   "language": "python",
   "name": "python3"
  },
  "language_info": {
   "codemirror_mode": {
    "name": "ipython",
    "version": 3
   },
   "file_extension": ".py",
   "mimetype": "text/x-python",
   "name": "python",
   "nbconvert_exporter": "python",
   "pygments_lexer": "ipython3",
   "version": "3.12.7"
  }
 },
 "nbformat": 4,
 "nbformat_minor": 2
}
