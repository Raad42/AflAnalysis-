{
 "cells": [
  {
   "cell_type": "code",
   "execution_count": 2,
   "metadata": {},
   "outputs": [],
   "source": [
    "import requests\n",
    "from bs4 import BeautifulSoup\n",
    "import pandas as pd"
   ]
  },
  {
   "cell_type": "code",
   "execution_count": 3,
   "metadata": {},
   "outputs": [],
   "source": [
    "#Initialise the dataframe \n",
    "df = pd.DataFrame(columns = [\"Position\", \"Team\", \"Played\", \"Points\", \"Percentage\", \"Round\", \"Year\"])"
   ]
  },
  {
   "cell_type": "code",
   "execution_count": 4,
   "metadata": {},
   "outputs": [],
   "source": [
    "for year in range(2012, 2024):\n",
    "    url = f\"https://afltables.com/afl/seas/{year}.html\"\n",
    "\n",
    "    # Send a GET request to the URL\n",
    "    response = requests.get(url)\n",
    "    soup = BeautifulSoup(response.content, \"html.parser\")\n",
    "\n",
    "    table = soup.find_all(\"td\", {\"width\": \"15%\", \"valign\": \"top\"})\n",
    "\n",
    "    column_data = table[0].find_all(\"tr\")\n",
    "\n",
    "    #Opening Round\n",
    "    round = 1\n",
    "    teams_in_round = set()\n",
    "    for row_index, row in enumerate(column_data[1:], start=1):\n",
    "            row_data = row.find_all(\"td\")\n",
    "            length = len(df)\n",
    "            individual_row = [row_index] + [data.text.strip() for data in row_data] + [1] + [2024]\n",
    "            #print(individual_row)\n",
    "            df.loc[length] = individual_row\n",
    "            teams_in_round.add(individual_row[1])\n",
    "\n",
    "    all_teams = {\"GW\", \"SY\", \"GC\", \"CA\", \"PA\", \"FR\", \"ES\", \"ME\", \"GE\", \"AD\", \"SK\", \"BL\", \"HW\", \"RI\", \"CW\", \"NM\", \"WB\", \"WC\"}  # Replace with all possible team names\n",
    "    missing_teams = all_teams - teams_in_round\n",
    "\n",
    "    for team in missing_teams:\n",
    "        # Append a row for the missing team with all values set to 0\n",
    "        individual_row = [len(df) + 1, team, 0, 0, 0, round, 2024]  # Adjust based on your table structure\n",
    "        df.loc[len(df)] = individual_row\n",
    "    \n",
    "    rounds = 25\n",
    "    for round in range(1, rounds):\n",
    "        column_data = table[round].find_all(\"tr\")\n",
    "        for row_index, row in enumerate(column_data[1:], start=1):\n",
    "            row_data = row.find_all(\"td\")\n",
    "            length = len(df)\n",
    "            individual_row = [row_index] + [data.text.strip() for data in row_data] + [round + 1] + [2024]\n",
    "            #print(individual_row)\n",
    "            df.loc[length] = individual_row"
   ]
  }
 ],
 "metadata": {
  "kernelspec": {
   "display_name": "base",
   "language": "python",
   "name": "python3"
  },
  "language_info": {
   "codemirror_mode": {
    "name": "ipython",
    "version": 3
   },
   "file_extension": ".py",
   "mimetype": "text/x-python",
   "name": "python",
   "nbconvert_exporter": "python",
   "pygments_lexer": "ipython3",
   "version": "3.12.7"
  }
 },
 "nbformat": 4,
 "nbformat_minor": 2
}
